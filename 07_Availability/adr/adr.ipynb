{
    "metadata": {
        "kernelspec": {
            "name": "SQL",
            "display_name": "SQL",
            "language": "sql"
        },
        "language_info": {
            "name": "sql",
            "version": ""
        }
    },
    "nbformat_minor": 2,
    "nbformat": 4,
    "cells": [
        {
            "cell_type": "markdown",
            "source": [
                "# Accelerated Database Recovery - Fast rollback and log truncation\r\n",
                "In this example you will see how fast rollback can now be with Accelerated Database Recovery. You will also see that a long active transaction does not affect the ability to truncate the transaction log.\r\n",
                ""
            ],
            "metadata": {
                "azdata_cell_guid": "636c7ed1-c819-4f37-9386-899d732263a2"
            }
        },
        {
            "cell_type": "markdown",
            "source": [
                "## Step 1: Setup the database\r\n",
                "Create a database and put a bunch of rows in a table. Make the database SIMPLE recovery to make it easier to analyze log truncation.\r\n",
                "\r\n",
                "The database assumes a path for a standard SQL Server Window installation. The database and log are created at 10Gb each to avoid any autogrow.\r\n",
                "\r\n",
                "100,000 rows are created in the table to be able to show the different in log growth and rollback times.\r\n",
                "\r\n",
                "Depending on the speed of your server, creating the database and data could take several minutes.\r\n",
                "\r\n",
                "**Note**: *For Linux installations the default path to use is /var/opt/mssql*"
            ],
            "metadata": {
                "azdata_cell_guid": "5e1d8226-6420-4bde-aa30-f33b5e7646a5"
            }
        },
        {
            "cell_type": "code",
            "source": [
                "USE master\r\n",
                "GO\r\n",
                "DROP DATABASE IF EXISTS gocowboys\r\n",
                "GO\r\n",
                "CREATE DATABASE gocowboys\r\n",
                "ON PRIMARY\r\n",
                "(NAME = N'gocowboys_primary', FILENAME = 'C:\\Program Files\\Microsoft SQL Server\\MSSQL15.MSSQLSERVER\\MSSQL\\DATA\\gocowboys.mdf', SIZE = 2Gb , MAXSIZE = UNLIMITED, FILEGROWTH = 65536KB)\r\n",
                "LOG ON \r\n",
                "(NAME = N'gocowboys_Log', FILENAME = 'C:\\Program Files\\Microsoft SQL Server\\MSSQL15.MSSQLSERVER\\MSSQL\\DATA\\gocowboys_log.ldf', SIZE = 5Gb , MAXSIZE = UNLIMITED , FILEGROWTH = 65536KB)\r\n",
                "GO\r\n",
                "ALTER DATABASE gocowboys SET RECOVERY SIMPLE\r\n",
                "GO\r\n",
                "USE gocowboys\r\n",
                "GO\r\n",
                "DROP TABLE IF EXISTS howboutthemcowboys\r\n",
                "GO\r\n",
                "CREATE TABLE howboutthemcowboys (playerid int primary key clustered, playername char(7000) not null)\r\n",
                "GO\r\n",
                "SET NOCOUNT ON\r\n",
                "GO\r\n",
                "BEGIN TRAN\r\n",
                "DECLARE @x int\r\n",
                "SET @x = 0\r\n",
                "WHILE (@x < 100000)\r\n",
                "BEGIN\r\n",
                "\tINSERT INTO howboutthemcowboys VALUES (@x, 'Jason Witten returns in 2019')\r\n",
                "\tSET @x = @x + 1\r\n",
                "END\r\n",
                "COMMIT TRAN\r\n",
                "GO\r\n",
                "SET NOCOUNT OFF\r\n",
                "GO\r\n",
                "USE master\r\n",
                "GO"
            ],
            "metadata": {
                "azdata_cell_guid": "e87d443b-4258-48db-ad65-6d6fbcb494d7"
            },
            "outputs": [
                {
                    "output_type": "display_data",
                    "data": {
                        "text/html": "Commands completed successfully."
                    },
                    "metadata": {}
                },
                {
                    "output_type": "display_data",
                    "data": {
                        "text/html": "Commands completed successfully."
                    },
                    "metadata": {}
                },
                {
                    "output_type": "display_data",
                    "data": {
                        "text/html": "Commands completed successfully."
                    },
                    "metadata": {}
                },
                {
                    "output_type": "display_data",
                    "data": {
                        "text/html": "Commands completed successfully."
                    },
                    "metadata": {}
                },
                {
                    "output_type": "display_data",
                    "data": {
                        "text/html": "Commands completed successfully."
                    },
                    "metadata": {}
                },
                {
                    "output_type": "display_data",
                    "data": {
                        "text/html": "Commands completed successfully."
                    },
                    "metadata": {}
                },
                {
                    "output_type": "display_data",
                    "data": {
                        "text/html": "Commands completed successfully."
                    },
                    "metadata": {}
                },
                {
                    "output_type": "display_data",
                    "data": {
                        "text/html": "Commands completed successfully."
                    },
                    "metadata": {}
                },
                {
                    "output_type": "display_data",
                    "data": {
                        "text/html": "Commands completed successfully."
                    },
                    "metadata": {}
                },
                {
                    "output_type": "display_data",
                    "data": {
                        "text/html": "Commands completed successfully."
                    },
                    "metadata": {}
                },
                {
                    "output_type": "display_data",
                    "data": {
                        "text/html": "Commands completed successfully."
                    },
                    "metadata": {}
                },
                {
                    "output_type": "display_data",
                    "data": {
                        "text/html": "Total execution time: 00:00:12.546"
                    },
                    "metadata": {}
                }
            ],
            "execution_count": 2
        },
        {
            "cell_type": "markdown",
            "source": [
                "## Step 2: Delete all the rows in the table\r\n",
                "Delete all the rows in the table in a user defined transaction"
            ],
            "metadata": {
                "azdata_cell_guid": "0289f187-20b1-412e-bff8-e216cd6a9b24"
            }
        },
        {
            "cell_type": "code",
            "source": [
                "USE master\r\n",
                "GO\r\n",
                "ALTER DATABASE gocowboys SET ACCELERATED_DATABASE_RECOVERY = OFF\r\n",
                "GO\r\n",
                "USE gocowboys\r\n",
                "GO\r\n",
                "BEGIN TRAN\r\n",
                "DELETE from howboutthemcowboys\r\n",
                "GO"
            ],
            "metadata": {
                "azdata_cell_guid": "a42899e6-ac52-4b60-9188-2f2bb61b06ea"
            },
            "outputs": [
                {
                    "output_type": "display_data",
                    "data": {
                        "text/html": "Commands completed successfully."
                    },
                    "metadata": {}
                },
                {
                    "output_type": "display_data",
                    "data": {
                        "text/html": "Commands completed successfully."
                    },
                    "metadata": {}
                },
                {
                    "output_type": "display_data",
                    "data": {
                        "text/html": "Commands completed successfully."
                    },
                    "metadata": {}
                },
                {
                    "output_type": "display_data",
                    "data": {
                        "text/html": "(100000 rows affected)"
                    },
                    "metadata": {}
                },
                {
                    "output_type": "display_data",
                    "data": {
                        "text/html": "Total execution time: 00:00:05.037"
                    },
                    "metadata": {}
                }
            ],
            "execution_count": 3
        },
        {
            "cell_type": "markdown",
            "source": [
                "## Step 3: Check how much transaction log space is used\r\n",
                "Because there is an active transaction the transaction log will have space used that cannot be truncated"
            ],
            "metadata": {
                "azdata_cell_guid": "d0996d47-5537-435f-b44d-8428ad76e152"
            }
        },
        {
            "cell_type": "code",
            "source": [
                "SELECT * FROM sys.dm_db_log_space_usage\r\n",
                "GO"
            ],
            "metadata": {
                "azdata_cell_guid": "4bfcc990-7cf3-4b45-820e-4d95c5f3fb7f"
            },
            "outputs": [
                {
                    "output_type": "display_data",
                    "data": {
                        "text/html": "(1 row affected)"
                    },
                    "metadata": {}
                },
                {
                    "output_type": "display_data",
                    "data": {
                        "text/html": "Total execution time: 00:00:00.140"
                    },
                    "metadata": {}
                },
                {
                    "output_type": "execute_result",
                    "execution_count": 4,
                    "data": {
                        "application/vnd.dataresource+json": {
                            "schema": {
                                "fields": [
                                    {
                                        "name": "database_id"
                                    },
                                    {
                                        "name": "total_log_size_in_bytes"
                                    },
                                    {
                                        "name": "used_log_space_in_bytes"
                                    },
                                    {
                                        "name": "used_log_space_in_percent"
                                    },
                                    {
                                        "name": "log_space_in_bytes_since_last_backup"
                                    }
                                ]
                            },
                            "data": [
                                {
                                    "0": "9",
                                    "1": "5368700928",
                                    "2": "4223991808",
                                    "3": "78.6781",
                                    "4": "1001320448"
                                }
                            ]
                        },
                        "text/html": "<table><tr><th>database_id</th><th>total_log_size_in_bytes</th><th>used_log_space_in_bytes</th><th>used_log_space_in_percent</th><th>log_space_in_bytes_since_last_backup</th></tr><tr><td>9</td><td>5368700928</td><td>4223991808</td><td>78.6781</td><td>1001320448</td></tr></table>"
                    },
                    "metadata": {}
                }
            ],
            "execution_count": 4
        },
        {
            "cell_type": "markdown",
            "source": [
                "## Step 4: Does a checkpoint truncate the transaction log?\r\n",
                "Compare the used_log_space_in_percent to the value from the previous step. Normally for a database with simple recovery a CHECKPOINT would truncate the log."
            ],
            "metadata": {
                "azdata_cell_guid": "6a8f88bd-96e6-457c-8ed5-9af54c239a1b"
            }
        },
        {
            "cell_type": "code",
            "source": [
                "CHECKPOINT\r\n",
                "GO\r\n",
                "SELECT * FROM sys.dm_db_log_space_usage\r\n",
                "GO"
            ],
            "metadata": {
                "azdata_cell_guid": "c6fd6403-773f-4332-94ae-85988d587c65"
            },
            "outputs": [
                {
                    "output_type": "display_data",
                    "data": {
                        "text/html": "Commands completed successfully."
                    },
                    "metadata": {}
                },
                {
                    "output_type": "display_data",
                    "data": {
                        "text/html": "(1 row affected)"
                    },
                    "metadata": {}
                },
                {
                    "output_type": "display_data",
                    "data": {
                        "text/html": "Total execution time: 00:00:00.200"
                    },
                    "metadata": {}
                },
                {
                    "output_type": "execute_result",
                    "execution_count": 5,
                    "data": {
                        "application/vnd.dataresource+json": {
                            "schema": {
                                "fields": [
                                    {
                                        "name": "database_id"
                                    },
                                    {
                                        "name": "total_log_size_in_bytes"
                                    },
                                    {
                                        "name": "used_log_space_in_bytes"
                                    },
                                    {
                                        "name": "used_log_space_in_percent"
                                    },
                                    {
                                        "name": "log_space_in_bytes_since_last_backup"
                                    }
                                ]
                            },
                            "data": [
                                {
                                    "0": "9",
                                    "1": "5368700928",
                                    "2": "4224090112",
                                    "3": "78.67993",
                                    "4": "1000153088"
                                }
                            ]
                        },
                        "text/html": "<table><tr><th>database_id</th><th>total_log_size_in_bytes</th><th>used_log_space_in_bytes</th><th>used_log_space_in_percent</th><th>log_space_in_bytes_since_last_backup</th></tr><tr><td>9</td><td>5368700928</td><td>4224090112</td><td>78.67993</td><td>1000153088</td></tr></table>"
                    },
                    "metadata": {}
                }
            ],
            "execution_count": 5
        },
        {
            "cell_type": "markdown",
            "source": [
                "## Step 5: How long does it take to rollback all the deletes\r\n",
                "Try to rollback the transation and measure the time it takes"
            ],
            "metadata": {
                "azdata_cell_guid": "dd4e57e3-ab71-4a1f-9d0e-1e339b922e07"
            }
        },
        {
            "cell_type": "code",
            "source": [
                "ROLLBACK TRAN\r\n",
                "GO"
            ],
            "metadata": {
                "azdata_cell_guid": "8cd860d5-7dba-4964-ac67-1a63c5e2381f"
            },
            "outputs": [
                {
                    "output_type": "display_data",
                    "data": {
                        "text/html": "Commands completed successfully."
                    },
                    "metadata": {}
                },
                {
                    "output_type": "display_data",
                    "data": {
                        "text/html": "Total execution time: 00:00:17.706"
                    },
                    "metadata": {}
                }
            ],
            "execution_count": 6
        },
        {
            "cell_type": "markdown",
            "source": [
                "## Step 6: What is the log space usage after a CHECKPOINT\r\n",
                "Because the active transaciton is rolled back, a CHECKPOINT will allow the log to be truncated."
            ],
            "metadata": {
                "azdata_cell_guid": "56c64247-7bf9-44ce-8595-204109476cde"
            }
        },
        {
            "cell_type": "code",
            "source": [
                "CHECKPOINT\r\n",
                "GO\r\n",
                "SELECT * FROM sys.dm_db_log_space_usage\r\n",
                "GO"
            ],
            "metadata": {
                "azdata_cell_guid": "29104ac5-22b8-4da4-a660-56d0b99042e3"
            },
            "outputs": [
                {
                    "output_type": "display_data",
                    "data": {
                        "text/html": "Commands completed successfully."
                    },
                    "metadata": {}
                },
                {
                    "output_type": "display_data",
                    "data": {
                        "text/html": "(1 row affected)"
                    },
                    "metadata": {}
                },
                {
                    "output_type": "display_data",
                    "data": {
                        "text/html": "Total execution time: 00:00:00.132"
                    },
                    "metadata": {}
                },
                {
                    "output_type": "execute_result",
                    "execution_count": 7,
                    "data": {
                        "application/vnd.dataresource+json": {
                            "schema": {
                                "fields": [
                                    {
                                        "name": "database_id"
                                    },
                                    {
                                        "name": "total_log_size_in_bytes"
                                    },
                                    {
                                        "name": "used_log_space_in_bytes"
                                    },
                                    {
                                        "name": "used_log_space_in_percent"
                                    },
                                    {
                                        "name": "log_space_in_bytes_since_last_backup"
                                    }
                                ]
                            },
                            "data": [
                                {
                                    "0": "9",
                                    "1": "5368700928",
                                    "2": "66646016",
                                    "3": "1.241381",
                                    "4": "81920"
                                }
                            ]
                        },
                        "text/html": "<table><tr><th>database_id</th><th>total_log_size_in_bytes</th><th>used_log_space_in_bytes</th><th>used_log_space_in_percent</th><th>log_space_in_bytes_since_last_backup</th></tr><tr><td>9</td><td>5368700928</td><td>66646016</td><td>1.241381</td><td>81920</td></tr></table>"
                    },
                    "metadata": {}
                }
            ],
            "execution_count": 7
        },
        {
            "cell_type": "markdown",
            "source": [
                "## Step 7: Turn on Accelerated Database Recovery"
            ],
            "metadata": {
                "azdata_cell_guid": "6dd6df07-c8a8-4af5-a37c-e76387891562"
            }
        },
        {
            "cell_type": "code",
            "source": [
                "USE master\r\n",
                "GO\r\n",
                "ALTER DATABASE gocowboys SET ACCELERATED_DATABASE_RECOVERY = ON\r\n",
                "GO"
            ],
            "metadata": {
                "azdata_cell_guid": "ecea5d73-8c88-40e0-92d1-cdc28ff6506a"
            },
            "outputs": [
                {
                    "output_type": "display_data",
                    "data": {
                        "text/html": "Commands completed successfully."
                    },
                    "metadata": {}
                },
                {
                    "output_type": "display_data",
                    "data": {
                        "text/html": "Commands completed successfully."
                    },
                    "metadata": {}
                },
                {
                    "output_type": "display_data",
                    "data": {
                        "text/html": "Total execution time: 00:00:00.024"
                    },
                    "metadata": {}
                }
            ],
            "execution_count": 8
        },
        {
            "cell_type": "markdown",
            "source": [
                "## Step 8: Try to delete all the rows again under a transaction"
            ],
            "metadata": {
                "azdata_cell_guid": "32126f0d-33de-4c96-b2fb-64249ed5d6f6"
            }
        },
        {
            "cell_type": "code",
            "source": [
                "USE gocowboys\r\n",
                "GO\r\n",
                "BEGIN TRAN\r\n",
                "DELETE from howboutthemcowboys\r\n",
                "GO"
            ],
            "metadata": {
                "azdata_cell_guid": "8c611ea2-27aa-429f-813e-35def0fc1b25"
            },
            "outputs": [
                {
                    "output_type": "display_data",
                    "data": {
                        "text/html": "Commands completed successfully."
                    },
                    "metadata": {}
                },
                {
                    "output_type": "display_data",
                    "data": {
                        "text/html": "(100000 rows affected)"
                    },
                    "metadata": {}
                },
                {
                    "output_type": "display_data",
                    "data": {
                        "text/html": "Total execution time: 00:00:02.287"
                    },
                    "metadata": {}
                }
            ],
            "execution_count": 9
        },
        {
            "cell_type": "markdown",
            "source": [
                "## Step 9: Check log space usage before and after a CHECKPOINT\r\n",
                "Notice the space used for the log is low even before the CHECKPOINT. This is because an active transaction does not affect log truncation when using Accelerated Database Recovery."
            ],
            "metadata": {
                "azdata_cell_guid": "b5563198-be8d-4ded-b79d-d675a1bfbf77"
            }
        },
        {
            "cell_type": "code",
            "source": [
                "SELECT * FROM sys.dm_db_log_space_usage\r\n",
                "GO\r\n",
                "CHECKPOINT\r\n",
                "GO\r\n",
                "SELECT * FROM sys.dm_db_log_space_usage\r\n",
                "GO"
            ],
            "metadata": {
                "azdata_cell_guid": "f1817c17-8b5a-4f47-b534-8120244a95ce"
            },
            "outputs": [
                {
                    "output_type": "display_data",
                    "data": {
                        "text/html": "(1 row affected)"
                    },
                    "metadata": {}
                },
                {
                    "output_type": "execute_result",
                    "execution_count": 10,
                    "data": {
                        "application/vnd.dataresource+json": {
                            "schema": {
                                "fields": [
                                    {
                                        "name": "database_id"
                                    },
                                    {
                                        "name": "total_log_size_in_bytes"
                                    },
                                    {
                                        "name": "used_log_space_in_bytes"
                                    },
                                    {
                                        "name": "used_log_space_in_percent"
                                    },
                                    {
                                        "name": "log_space_in_bytes_since_last_backup"
                                    }
                                ]
                            },
                            "data": [
                                {
                                    "0": "9",
                                    "1": "5368700928",
                                    "2": "1057402880",
                                    "3": "19.69569",
                                    "4": "768229376"
                                }
                            ]
                        },
                        "text/html": "<table><tr><th>database_id</th><th>total_log_size_in_bytes</th><th>used_log_space_in_bytes</th><th>used_log_space_in_percent</th><th>log_space_in_bytes_since_last_backup</th></tr><tr><td>9</td><td>5368700928</td><td>1057402880</td><td>19.69569</td><td>768229376</td></tr></table>"
                    },
                    "metadata": {}
                },
                {
                    "output_type": "display_data",
                    "data": {
                        "text/html": "Commands completed successfully."
                    },
                    "metadata": {}
                },
                {
                    "output_type": "display_data",
                    "data": {
                        "text/html": "(1 row affected)"
                    },
                    "metadata": {}
                },
                {
                    "output_type": "display_data",
                    "data": {
                        "text/html": "Total execution time: 00:00:00.092"
                    },
                    "metadata": {}
                },
                {
                    "output_type": "execute_result",
                    "execution_count": 10,
                    "data": {
                        "application/vnd.dataresource+json": {
                            "schema": {
                                "fields": [
                                    {
                                        "name": "database_id"
                                    },
                                    {
                                        "name": "total_log_size_in_bytes"
                                    },
                                    {
                                        "name": "used_log_space_in_bytes"
                                    },
                                    {
                                        "name": "used_log_space_in_percent"
                                    },
                                    {
                                        "name": "log_space_in_bytes_since_last_backup"
                                    }
                                ]
                            },
                            "data": [
                                {
                                    "0": "9",
                                    "1": "5368700928",
                                    "2": "386572288",
                                    "3": "7.200481",
                                    "4": "122880"
                                }
                            ]
                        },
                        "text/html": "<table><tr><th>database_id</th><th>total_log_size_in_bytes</th><th>used_log_space_in_bytes</th><th>used_log_space_in_percent</th><th>log_space_in_bytes_since_last_backup</th></tr><tr><td>9</td><td>5368700928</td><td>386572288</td><td>7.200481</td><td>122880</td></tr></table>"
                    },
                    "metadata": {}
                }
            ],
            "execution_count": 10
        },
        {
            "cell_type": "markdown",
            "source": [
                "## Step 10: How fast is a rollback?\r\n",
                "See if a rollback is any faster with Acclerated Database Recovery"
            ],
            "metadata": {
                "azdata_cell_guid": "90c4d3dd-2573-43ed-8ead-1cc25fd35d10"
            }
        },
        {
            "cell_type": "code",
            "source": [
                "ROLLBACK TRAN\r\n",
                "GO"
            ],
            "metadata": {
                "azdata_cell_guid": "9f51686e-3266-4f8b-97e0-cae4f8b1107f"
            },
            "outputs": [
                {
                    "output_type": "display_data",
                    "data": {
                        "text/html": "Commands completed successfully."
                    },
                    "metadata": {}
                },
                {
                    "output_type": "display_data",
                    "data": {
                        "text/html": "Total execution time: 00:00:00.001"
                    },
                    "metadata": {}
                }
            ],
            "execution_count": 11
        }
    ]
}