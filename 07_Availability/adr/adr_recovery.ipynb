{
    "metadata": {
        "kernelspec": {
            "name": "SQL",
            "display_name": "SQL",
            "language": "sql"
        },
        "language_info": {
            "name": "sql",
            "version": ""
        }
    },
    "nbformat_minor": 2,
    "nbformat": 4,
    "cells": [
        {
            "cell_type": "markdown",
            "source": [
                "# Accelerated Database Recovery - Speed up Recovery\r\n",
                "In this example you will learn how Accelerated Database Recovery will speed up recovery\r\n",
                "\r\n",
                ""
            ],
            "metadata": {
                "azdata_cell_guid": "f712b665-b4bc-49df-9767-cf67a3ffa193"
            }
        },
        {
            "cell_type": "markdown",
            "source": [
                "## Step 1: Setup the database\r\n",
                "Create a database larger enough to hold data and tlog without autogrow.\r\n",
                "\r\n",
                "Depending on the speed of your server, creating the database and data could take several minutes.\r\n",
                "\r\n",
                "**Note**: *For Linux installations the default path to use is /var/opt/mssql*"
            ],
            "metadata": {
                "azdata_cell_guid": "897fd54d-e5ce-43da-b2eb-dad84d6bcfec"
            }
        },
        {
            "cell_type": "code",
            "source": [
                "USE master\r\n",
                "GO\r\n",
                "DROP DATABASE IF EXISTS gocowboys\r\n",
                "GO\r\n",
                "CREATE DATABASE gocowboys\r\n",
                "ON PRIMARY\r\n",
                "(NAME = N'gocowboys_primary', FILENAME = 'C:\\Program Files\\Microsoft SQL Server\\MSSQL15.MSSQLSERVER\\MSSQL\\DATA\\gocowboys.mdf', SIZE = 5Gb , MAXSIZE = UNLIMITED, FILEGROWTH = 65536KB)\r\n",
                "LOG ON \r\n",
                "(NAME = N'gocowboys_log', FILENAME = 'C:\\Program Files\\Microsoft SQL Server\\MSSQL15.MSSQLSERVER\\MSSQL\\DATA\\gocowboys_log.ldf', SIZE = 20Gb , MAXSIZE = UNLIMITED , FILEGROWTH = 65536KB)\r\n",
                "GO\r\n",
                "ALTER DATABASE gocowboys SET RECOVERY SIMPLE\r\n",
                "GO"
            ],
            "metadata": {
                "azdata_cell_guid": "b8c90418-a023-4f14-82d1-45abb5c01000",
                "language": "sql"
            },
            "outputs": [
                {
                    "output_type": "display_data",
                    "data": {
                        "text/html": "Commands completed successfully."
                    },
                    "metadata": {}
                },
                {
                    "output_type": "display_data",
                    "data": {
                        "text/html": "Commands completed successfully."
                    },
                    "metadata": {}
                },
                {
                    "output_type": "display_data",
                    "data": {
                        "text/html": "Commands completed successfully."
                    },
                    "metadata": {}
                },
                {
                    "output_type": "display_data",
                    "data": {
                        "text/html": "Commands completed successfully."
                    },
                    "metadata": {}
                },
                {
                    "output_type": "display_data",
                    "data": {
                        "text/html": "Total execution time: 00:04:33.769"
                    },
                    "metadata": {}
                }
            ],
            "execution_count": 1
        },
        {
            "cell_type": "markdown",
            "source": [
                "## Step 2: Create the table\n",
                "\n",
                "Create a table with a half a million rows so that when we delete them all recovery will take a long time"
            ],
            "metadata": {
                "azdata_cell_guid": "aa98f08d-1f89-494e-839c-2a7941825605"
            },
            "attachments": {}
        },
        {
            "cell_type": "code",
            "source": [
                "USE gocowboys\r\n",
                "GO\r\n",
                "DROP TABLE IF EXISTS howboutthemcowboys\r\n",
                "GO\r\n",
                "CREATE TABLE howboutthemcowboys (playerid int primary key clustered, playername char(7000) not null)\r\n",
                "GO\r\n",
                "SET NOCOUNT ON\r\n",
                "GO\r\n",
                "BEGIN TRAN\r\n",
                "DECLARE @x int\r\n",
                "SET @x = 0\r\n",
                "WHILE (@x < 500000)\r\n",
                "BEGIN\r\n",
                "\tINSERT INTO howboutthemcowboys VALUES (@x, 'Jason Witten returns in 2019')\r\n",
                "\tSET @x = @x + 1\r\n",
                "END\r\n",
                "COMMIT TRAN\r\n",
                "GO\r\n",
                "SET NOCOUNT OFF\r\n",
                "GO\r\n",
                "USE master\r\n",
                "GO"
            ],
            "metadata": {
                "azdata_cell_guid": "21bed16c-702b-4449-8e58-d7a787c54457",
                "language": "sql"
            },
            "outputs": [
                {
                    "output_type": "display_data",
                    "data": {
                        "text/html": "Commands completed successfully."
                    },
                    "metadata": {}
                },
                {
                    "output_type": "display_data",
                    "data": {
                        "text/html": "Commands completed successfully."
                    },
                    "metadata": {}
                },
                {
                    "output_type": "display_data",
                    "data": {
                        "text/html": "Commands completed successfully."
                    },
                    "metadata": {}
                },
                {
                    "output_type": "display_data",
                    "data": {
                        "text/html": "Commands completed successfully."
                    },
                    "metadata": {}
                },
                {
                    "output_type": "display_data",
                    "data": {
                        "text/html": "Commands completed successfully."
                    },
                    "metadata": {}
                },
                {
                    "output_type": "display_data",
                    "data": {
                        "text/html": "Commands completed successfully."
                    },
                    "metadata": {}
                },
                {
                    "output_type": "display_data",
                    "data": {
                        "text/html": "Commands completed successfully."
                    },
                    "metadata": {}
                },
                {
                    "output_type": "display_data",
                    "data": {
                        "text/html": "Total execution time: 00:02:48.638"
                    },
                    "metadata": {}
                }
            ],
            "execution_count": 2
        },
        {
            "cell_type": "markdown",
            "source": [
                "## Step 3: Delete all the rows in the table\r\n",
                "Delete all the rows in the table in a user defined transaction"
            ],
            "metadata": {
                "azdata_cell_guid": "97da6f29-b0bb-447b-9405-4080a1b51c99"
            }
        },
        {
            "cell_type": "code",
            "source": [
                "USE master\r\n",
                "GO\r\n",
                "ALTER DATABASE gocowboys SET ACCELERATED_DATABASE_RECOVERY = OFF\r\n",
                "GO\r\n",
                "-- Try to delete a bunch of rows\r\n",
                "USE gocowboys\r\n",
                "GO\r\n",
                "BEGIN TRAN\r\n",
                "DELETE from howboutthemcowboys\r\n",
                "GO"
            ],
            "metadata": {
                "azdata_cell_guid": "869d259e-37db-4c03-b712-9f60bf171564",
                "language": "sql"
            },
            "outputs": [
                {
                    "output_type": "display_data",
                    "data": {
                        "text/html": "Commands completed successfully."
                    },
                    "metadata": {}
                },
                {
                    "output_type": "display_data",
                    "data": {
                        "text/html": "Commands completed successfully."
                    },
                    "metadata": {}
                },
                {
                    "output_type": "display_data",
                    "data": {
                        "text/html": "Commands completed successfully."
                    },
                    "metadata": {}
                },
                {
                    "output_type": "display_data",
                    "data": {
                        "text/html": "(500000 rows affected)"
                    },
                    "metadata": {}
                },
                {
                    "output_type": "display_data",
                    "data": {
                        "text/html": "Total execution time: 00:00:28.489"
                    },
                    "metadata": {}
                }
            ],
            "execution_count": 3
        },
        {
            "cell_type": "markdown",
            "source": [
                "## Step 4: Checkpoint the database, shutdown SQL Server WITH NOWAIT, and restart it\r\n",
                "Checkpoint will flush any dirty pages but the transaction is not committed. Shutting down the server with NOWAIT will not attempt to roll back active transactions. Therefore, SQL Server has to run undo to rollback this transaction. \r\n",
                "\r\n",
                "Separate from this notebook, use a New Query in Azure Data Studio and run the following commands as a sysadmin. \r\n",
                "\r\n",
                "**Restart SQL Server and then examine the ERRORLOG to see how long recovery takes for the database. SQL Server must fully recover the database before you go to the next step. Because there is so much to recover this could take 10 minutes or more**\r\n",
                "\r\n",
                "```sql\r\n",
                "USE gocowboys\r\n",
                "GO\r\n",
                "CHECKPOINT\r\n",
                "GO\r\n",
                "SHUTDOWN WITH NOWAIT\r\n",
                "GO\r\n",
                "```\r\n",
                ""
            ],
            "metadata": {
                "azdata_cell_guid": "564cca52-d5fa-48ce-afb5-d27e517f647d"
            }
        },
        {
            "cell_type": "markdown",
            "source": [
                "## Step 5: Create the table again for a second test\r\n",
                "Use the same code as before to create the table with a million rows. But turn on Accelerated Database Recovery first.\r\n",
                "\r\n",
                "You may first see a connection error first since you shutdown SQL Server in the previous step but the cell should retry the connection and run the T-SQL statements."
            ],
            "metadata": {
                "azdata_cell_guid": "fc25898c-0059-4dc2-8c55-6a5d8c499b07"
            }
        },
        {
            "cell_type": "code",
            "source": [
                "USE master\r\n",
                "GO\r\n",
                "ALTER DATABASE gocowboys SET ACCELERATED_DATABASE_RECOVERY = ON\r\n",
                "GO\r\n",
                "USE gocowboys\r\n",
                "GO\r\n",
                "DROP TABLE IF EXISTS howboutthemcowboys\r\n",
                "GO\r\n",
                "CREATE TABLE howboutthemcowboys (playerid int primary key clustered, playername char(7000) not null)\r\n",
                "GO\r\n",
                "SET NOCOUNT ON\r\n",
                "GO\r\n",
                "BEGIN TRAN\r\n",
                "DECLARE @x int\r\n",
                "SET @x = 0\r\n",
                "WHILE (@x < 500000)\r\n",
                "BEGIN\r\n",
                "\tINSERT INTO howboutthemcowboys VALUES (@x, 'Jason Witten returns in 2019')\r\n",
                "\tSET @x = @x + 1\r\n",
                "END\r\n",
                "COMMIT TRAN\r\n",
                "GO\r\n",
                "SET NOCOUNT OFF\r\n",
                "GO\r\n",
                "USE master\r\n",
                "GO"
            ],
            "metadata": {
                "azdata_cell_guid": "62f4b07c-2b8c-4566-83e8-2eb816b02acc",
                "language": "sql"
            },
            "outputs": [
                {
                    "output_type": "error",
                    "ename": "",
                    "evalue": "Msg 0, Level 20, State 0, Line 0\r\nThe connection is broken and recovery is not possible.  The connection is marked by the server as unrecoverable.  No attempt was made to restore the connection.",
                    "traceback": []
                },
                {
                    "output_type": "display_data",
                    "data": {
                        "text/html": "Commands completed successfully."
                    },
                    "metadata": {}
                },
                {
                    "output_type": "display_data",
                    "data": {
                        "text/html": "Commands completed successfully."
                    },
                    "metadata": {}
                },
                {
                    "output_type": "display_data",
                    "data": {
                        "text/html": "Commands completed successfully."
                    },
                    "metadata": {}
                },
                {
                    "output_type": "display_data",
                    "data": {
                        "text/html": "Commands completed successfully."
                    },
                    "metadata": {}
                },
                {
                    "output_type": "display_data",
                    "data": {
                        "text/html": "Commands completed successfully."
                    },
                    "metadata": {}
                },
                {
                    "output_type": "display_data",
                    "data": {
                        "text/html": "Commands completed successfully."
                    },
                    "metadata": {}
                },
                {
                    "output_type": "display_data",
                    "data": {
                        "text/html": "Commands completed successfully."
                    },
                    "metadata": {}
                },
                {
                    "output_type": "display_data",
                    "data": {
                        "text/html": "Commands completed successfully."
                    },
                    "metadata": {}
                },
                {
                    "output_type": "display_data",
                    "data": {
                        "text/html": "Total execution time: 00:01:13.750"
                    },
                    "metadata": {}
                }
            ],
            "execution_count": 4
        },
        {
            "cell_type": "markdown",
            "source": [
                "## Step 6: Delete all the rows in the table in a transaction\r\n",
                "Same code as before to delete all rows and not commit or rollback the transaction"
            ],
            "metadata": {
                "azdata_cell_guid": "dc87555d-7802-4383-be3c-9abf9bba2452"
            }
        },
        {
            "cell_type": "code",
            "source": [
                "USE gocowboys\r\n",
                "GO\r\n",
                "BEGIN TRAN\r\n",
                "DELETE from howboutthemcowboys\r\n",
                "GO"
            ],
            "metadata": {
                "azdata_cell_guid": "209cd48d-f624-4df1-9f62-fbc6051604c7",
                "language": "sql"
            },
            "outputs": [
                {
                    "output_type": "display_data",
                    "data": {
                        "text/html": "Commands completed successfully."
                    },
                    "metadata": {}
                },
                {
                    "output_type": "display_data",
                    "data": {
                        "text/html": "(1000000 rows affected)"
                    },
                    "metadata": {}
                },
                {
                    "output_type": "display_data",
                    "data": {
                        "text/html": "Total execution time: 00:00:27.279"
                    },
                    "metadata": {}
                }
            ],
            "execution_count": 5
        },
        {
            "cell_type": "markdown",
            "source": [
                "## Step 7:  Checkpoint the database, shutdown SQL Server WITH NOWAIT, and restart it with Accelerated Database Recovery\r\n",
                "Checkpoint will flush any dirty pages but the transaction is not committed. Shutting down the server with NOWAIT will not attempt to roll back active transactions. Therefore, SQL Server has to run undo to rollback this transaction. \r\n",
                "\r\n",
                "Separate from this notebook, use a New Query in Azure Data Studio and run the following commands as a sysadmin. Then restart SQL Server to examine the ERRORLOG to see how recovery takes for the database. You should see that recovery is significantly faster than before.\r\n",
                "\r\n",
                "```sql\r\n",
                "USE gocowboys\r\n",
                "GO\r\n",
                "CHECKPOINT\r\n",
                "GO\r\n",
                "SHUTDOWN WITH NOWAIT\r\n",
                "GO\r\n",
                "```"
            ],
            "metadata": {
                "azdata_cell_guid": "a2379b03-4a43-42ee-8fb9-2942f6a44fdd"
            }
        }
    ]
}