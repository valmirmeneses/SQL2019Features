{
    "metadata": {
        "kernelspec": {
            "name": "SQL",
            "display_name": "SQL",
            "language": "sql"
        },
        "language_info": {
            "name": "sql",
            "version": ""
        }
    },
    "nbformat_minor": 2,
    "nbformat": 4,
    "cells": [
        {
            "cell_type": "markdown",
            "source": [
                "# Tutorial: Row Level Security\n",
                "\n",
                "This notebook uses the sample AdventureWorks sample database but can be used with any user database."
            ],
            "metadata": {
                "azdata_cell_guid": "2aebda21-1d6d-4ba1-84b9-879af29f16f9"
            },
            "attachments": {}
        },
        {
            "cell_type": "markdown",
            "source": [
                "# Step 1: Understanding the Hierarchy in AdventureWorks\n",
                "\n",
                "## In this step, we will navigate through the database to understand the business requirements for the row level security. \n",
                "\n",
                "## 1.  I have populated the database logins principals with the users that are part of the hierarchy."
            ],
            "metadata": {
                "azdata_cell_guid": "234bb2a5-b20b-4af9-9793-f044718b79af"
            },
            "attachments": {}
        },
        {
            "cell_type": "code",
            "source": [
                "Use  AdventureWorks\r\n",
                "Go\r\n",
                "CREATE USER ken0 WITH PASSWORD = 'K3nk3nk3n';\r\n",
                "ALTER ROLE db_datareader ADD MEMBER ken0;\r\n",
                "ALTER ROLE db_datawriter ADD MEMBER ken0;\r\n",
                "\r\n",
                "CREATE USER brian3 WITH PASSWORD = 'Br1@n3br1@n3';\r\n",
                "ALTER ROLE db_datareader ADD MEMBER brian3;\r\n",
                "ALTER ROLE db_datawriter ADD MEMBER brian3;\r\n",
                "\r\n",
                "CREATE USER amy0 WITH PASSWORD = 'Am10@m10';\r\n",
                "ALTER ROLE db_datareader ADD MEMBER amy0;\r\n",
                "ALTER ROLE db_datawriter ADD MEMBER amy0;\r\n",
                "\r\n",
                "CREATE USER jae0 WITH PASSWORD = 'Ja3ja3ja3';\r\n",
                "ALTER ROLE db_datareader ADD MEMBER jae0;\r\n",
                "ALTER ROLE db_datawriter ADD MEMBER jae0;\r\n",
                "\r\n",
                "CREATE USER rachel0 WITH PASSWORD = 'Rach3lrach3l';\r\n",
                "ALTER ROLE db_datareader ADD MEMBER rachel0;\r\n",
                "ALTER ROLE db_datawriter ADD MEMBER rachel0;\r\n",
                "\r\n",
                "CREATE USER ranjit0 WITH PASSWORD = 'Ranj1tranj1t';\r\n",
                "ALTER ROLE db_datareader ADD MEMBER ranjit0;\r\n",
                "ALTER ROLE db_datawriter ADD MEMBER ranjit0;\r\n",
                ""
            ],
            "metadata": {
                "azdata_cell_guid": "83e74403-0ae8-4679-a6d4-0a40b44aceb1",
                "language": "sql"
            },
            "outputs": [],
            "execution_count": null
        },
        {
            "cell_type": "markdown",
            "source": [
                "# Step 2: Let's review the hierarchy"
            ],
            "metadata": {
                "azdata_cell_guid": "356ed88e-42c7-4f05-8518-c525158ad57f"
            },
            "attachments": {}
        },
        {
            "cell_type": "code",
            "source": [
                "Use  AdventureWorks\r\n",
                "Go\r\n",
                "SELECT e.[BusinessEntityID]\r\n",
                "\t  ,e.[LoginID]\r\n",
                "      ,e.[OrganizationLevel]\r\n",
                "      ,e.[JobTitle]\r\n",
                "\t  ,m.LoginID as manager\r\n",
                "  FROM [AdventureWorks].[HumanResources].[Employee] e\r\n",
                "  inner join sys.database_principals dp  on 'adventure-works\\'+dp.name COLLATE SQL_Latin1_General_CP1_CI_AS= e.loginid\r\n",
                "  Left outer JOIN [HumanResources].[Employee] m on e.OrganizationNode.GetAncestor(1)=m.OrganizationNode\r\n",
                "  order by e.[OrganizationLevel], e.LoginID\r\n",
                "  \r\n",
                ""
            ],
            "metadata": {
                "azdata_cell_guid": "7cef930f-722c-4928-8a5d-e445b6ec82a6",
                "language": "sql"
            },
            "outputs": [],
            "execution_count": null
        },
        {
            "cell_type": "markdown",
            "source": [
                "# Step 3: Let's check on the Sales Orders for the European Sales Manager"
            ],
            "metadata": {
                "azdata_cell_guid": "f7611f0f-71af-4aa7-a49c-76c06cd8376e"
            },
            "attachments": {}
        },
        {
            "cell_type": "code",
            "source": [
                "Use  AdventureWorks\r\n",
                "Go\r\n",
                "Execute as user = 'amy0'\r\n",
                "Select e.LoginID\r\n",
                "\t,Count(*) TotalOrders\r\n",
                "\t, Sum(SubTotal) SubTotal\r\n",
                "From Sales.SalesOrderHeader as s \r\n",
                "INNER JOIN [HumanResources].[Employee] e on (s.SalesPersonID= e.BusinessEntityID)\r\n",
                "INNER JOIN [HumanResources].[Employee] m on e.OrganizationNode.IsDescendantOf(m.OrganizationNode)=1  --- This will bring Amy's team's orders as well as hers\r\n",
                "where m.LoginID='adventure-works\\'+User_name() COLLATE SQL_Latin1_General_CP1_CI_AS\r\n",
                "group by  e.LoginID WITH ROLLUP\r\n",
                "REVERT\r\n",
                ""
            ],
            "metadata": {
                "azdata_cell_guid": "79a71f8b-8010-4fbd-87bb-c6bd46650718",
                "language": "sql"
            },
            "outputs": [],
            "execution_count": null
        },
        {
            "cell_type": "markdown",
            "source": [
                "# Step 4: Now, let's have a look at Jae's orders"
            ],
            "metadata": {
                "azdata_cell_guid": "bd4da0f6-f82b-4883-a48c-c36e9f910f37"
            },
            "attachments": {}
        },
        {
            "cell_type": "code",
            "source": [
                "Use  AdventureWorks\r\n",
                "Go\r\n",
                "Execute as user = 'jae0'\r\n",
                "Select e.LoginID, Count(*) TotalOrders, Sum(SubTotal) SubTotal\r\n",
                "From Sales.SalesOrderHeader as s \r\n",
                "INNER JOIN [HumanResources].[Employee] e on (s.SalesPersonID= e.BusinessEntityID)\r\n",
                "INNER JOIN [HumanResources].[Employee] m on e.OrganizationNode.IsDescendantOf(m.OrganizationNode)=1\r\n",
                "where m.LoginID='adventure-works\\'+User_name() COLLATE SQL_Latin1_General_CP1_CI_AS\r\n",
                "Group by e.LoginID\r\n",
                "REVERT"
            ],
            "metadata": {
                "azdata_cell_guid": "c0d3214b-10d8-4058-aa5a-494e0c5fbfde",
                "language": "sql"
            },
            "outputs": [],
            "execution_count": null
        },
        {
            "cell_type": "markdown",
            "source": [
                "# Step 5: But Jae can see all the orders, not only hers."
            ],
            "metadata": {
                "azdata_cell_guid": "caec646e-2b65-40b0-8f8e-ff5a44e5c8d2"
            },
            "attachments": {}
        },
        {
            "cell_type": "code",
            "source": [
                "Use  AdventureWorks\r\n",
                "Go\r\n",
                "Execute as user = 'jae0'\r\n",
                "Select e.LoginID\r\n",
                "\t,Count(*) TotalOrders\r\n",
                "\t, Sum(SubTotal) SubTotal\r\n",
                "From Sales.SalesOrderHeader as s \r\n",
                "INNER JOIN [HumanResources].[Employee] e on (s.SalesPersonID= e.BusinessEntityID)\r\n",
                "group by  e.LoginID\r\n",
                "REVERT"
            ],
            "metadata": {
                "azdata_cell_guid": "ac561f95-9690-4d8a-9739-353dc8a045f4",
                "language": "sql"
            },
            "outputs": [],
            "execution_count": null
        },
        {
            "cell_type": "markdown",
            "source": [
                "We have two Business requirements for the row level security:\n",
                "\n",
                "- Sales Representatives can only see their data.\n",
                "- Managers can see their direct reports data so in other words if we have two sales people who report to the same person or report to different managers even they cannot see each other's data they can only see their own whereas a manager can see the data for the entire team. If the VP of Sales, Brian (brian3) is online and querying the orders we will aso account for the online orders which have no Sales Person ID."
            ],
            "metadata": {
                "azdata_cell_guid": "a105a4ed-2fc7-412d-a14b-896bdbcdfad1"
            },
            "attachments": {}
        },
        {
            "cell_type": "markdown",
            "source": [
                "The first requirement can be fulfilled by the query below:"
            ],
            "metadata": {
                "azdata_cell_guid": "88fb63e9-b052-4519-97ba-ad91513ec4b9"
            },
            "attachments": {}
        },
        {
            "cell_type": "code",
            "source": [
                "Use  AdventureWorks\r\n",
                "Go\r\n",
                "Execute as user = 'jae0'\r\n",
                "Select e.LoginID, Count(*) TotalOrders, Sum(SubTotal) SubTotal\r\n",
                "From Sales.SalesOrderHeader as s \r\n",
                "INNER JOIN [HumanResources].[Employee] e on (s.SalesPersonID= e.BusinessEntityID)\r\n",
                "where e.LoginID='adventure-works\\'+User_name() COLLATE SQL_Latin1_General_CP1_CI_AS\r\n",
                "Group by e.LoginID\r\n",
                "REVERT"
            ],
            "metadata": {
                "azdata_cell_guid": "503d050d-1990-4d05-af77-6b53991f96d9",
                "language": "sql",
                "tags": []
            },
            "outputs": [],
            "execution_count": null
        },
        {
            "cell_type": "markdown",
            "source": [
                "The second requirement can be fulfilled by the query below:"
            ],
            "metadata": {
                "language": "sql",
                "azdata_cell_guid": "d392ae1a-288d-4733-a72a-b01453eabdc8"
            },
            "attachments": {}
        },
        {
            "cell_type": "code",
            "source": [
                "Use  AdventureWorks\r\n",
                "Go\r\n",
                "Execute as user = 'amy0'\r\n",
                "Select e.LoginID\t,Count(*) TotalOrders \t, Sum(SubTotal) SubTotal\r\n",
                "From Sales.SalesOrderHeader as s \r\n",
                "INNER JOIN [HumanResources].[Employee] e on (s.SalesPersonID= e.BusinessEntityID)\r\n",
                "INNER JOIN [HumanResources].[Employee] m on e.OrganizationNode.IsDescendantOf(m.OrganizationNode)=1  --- This will bring Amy's team's orders as well as hers\r\n",
                "where m.LoginID='adventure-works\\'+User_name() COLLATE SQL_Latin1_General_CP1_CI_AS\r\n",
                "group by  e.LoginID\r\n",
                "REVERT\r\n",
                ""
            ],
            "metadata": {
                "language": "sql",
                "azdata_cell_guid": "db818403-18e6-4942-8116-92531ef0f68d"
            },
            "outputs": [],
            "execution_count": null
        },
        {
            "cell_type": "markdown",
            "source": [
                "If we execute the above query for jae0, as jae0 has no one reporting to her it will not affect the result."
            ],
            "metadata": {
                "language": "sql",
                "azdata_cell_guid": "98b784c2-3b99-43c5-b331-654dd47277fb"
            },
            "attachments": {}
        },
        {
            "cell_type": "markdown",
            "source": [
                "Let's add the logic for the VP of Sales and create a user defined function."
            ],
            "metadata": {
                "language": "sql",
                "azdata_cell_guid": "5d926ee6-75d6-4d8b-88af-0ca66763e1df"
            },
            "attachments": {}
        },
        {
            "cell_type": "markdown",
            "source": [
                "# Step 6: Create a user defined function to hold this business requirements.\n",
                "\n",
                "As part of the best practices to maintain the row level security policies, we will create a schema to hold the function"
            ],
            "metadata": {
                "language": "sql",
                "azdata_cell_guid": "59b06cc8-9f9c-40b9-aeac-0d9605b433ca"
            },
            "attachments": {}
        },
        {
            "cell_type": "code",
            "source": [
                "IF NOT EXISTS (SELECT * FROM sys.schemas WHERE name = 'RowLevelSecurity')\r\n",
                "BEGIN\r\n",
                "    EXEC('CREATE SCHEMA RowLevelSecurity')\r\n",
                "END\r\n",
                "Go\r\n",
                "CREATE OR ALTER FUNCTION RowLevelSecurity.udf_BusinessEntityID (@BusinessEntityID int)\r\n",
                "RETURNS TABLE WITH SCHEMABINDING\r\n",
                "AS \r\n",
                "RETURN (\r\n",
                "\tSelect 1 Result\r\n",
                "    From Sales.SalesOrderHeader as s \r\n",
                "    INNER JOIN [HumanResources].[Employee] e on (s.SalesPersonID= e.BusinessEntityID)\r\n",
                "    INNER JOIN [HumanResources].[Employee] m on e.OrganizationNode.IsDescendantOf(m.OrganizationNode)=1\r\n",
                "    where e.BusinessEntityID=@BusinessEntityID and m.LoginID='adventure-works\\'+User_name() COLLATE SQL_Latin1_General_CP1_CI_AS\r\n",
                "    UNION\r\n",
                "    --- Return all online orders for the VP of Sales when he is online\r\n",
                "    Select 1 Result\r\n",
                "    From Sales.SalesOrderHeader as s \r\n",
                "    CROSS JOIN [HumanResources].[Employee] e \r\n",
                "    WHERE e.LoginID='adventure-works\\'+User_name() COLLATE SQL_Latin1_General_CP1_CI_AS  --- If VP of Sales is querying\r\n",
                "    AND e.OrganizationLevel=1 ----VP of Sales\r\n",
                "    and s.OnlineOrderFlag=1 ---- online orders\r\n",
                "\t\r\n",
                ")"
            ],
            "metadata": {
                "language": "sql",
                "azdata_cell_guid": "0837c796-9e5c-4f95-9cc8-8a250eeaf96c"
            },
            "outputs": [],
            "execution_count": null
        },
        {
            "cell_type": "markdown",
            "source": [
                "Let's run the queries for using the function now."
            ],
            "metadata": {
                "language": "sql",
                "azdata_cell_guid": "ad01f565-e82d-42cf-8b41-74f61d00c045"
            },
            "attachments": {}
        },
        {
            "cell_type": "code",
            "source": [
                "--- Now testing the function \r\n",
                "Execute as user = 'jae0'\r\n",
                "Select Count(*) TotalOrders, Sum(SubTotal) SubTotal\r\n",
                "From Sales.SalesOrderHeader as s \r\n",
                "CROSS APPLY RowLevelSecurity.udf_BusinessEntityID(s.SalesPersonID)  p\r\n",
                "REVERT\r\n",
                "\r\n",
                "Execute as user = 'rachel0'\r\n",
                "Select Count(*) TotalOrders, Sum(SubTotal) SubTotal\r\n",
                "From Sales.SalesOrderHeader as s \r\n",
                "CROSS APPLY RowLevelSecurity.udf_BusinessEntityID(s.SalesPersonID)  p\r\n",
                "REVERT\r\n",
                "\r\n",
                "Execute as user = 'ranjit0'\r\n",
                "Select Count(*) TotalOrders, Sum(SubTotal) SubTotal\r\n",
                "From Sales.SalesOrderHeader as s \r\n",
                "CROSS APPLY RowLevelSecurity.udf_BusinessEntityID(s.SalesPersonID)  p\r\n",
                "REVERT\r\n",
                "\r\n",
                "Execute as user = 'amy0'\r\n",
                "Select Count(*) TotalOrders, Sum(SubTotal) SubTotal\r\n",
                "From Sales.SalesOrderHeader as s \r\n",
                "CROSS APPLY RowLevelSecurity.udf_BusinessEntityID(s.SalesPersonID)  p\r\n",
                "REVERT\r\n",
                "\r\n",
                "Execute as user = 'brian3'\r\n",
                "Select Count(*) TotalOrders, Sum(SubTotal) SubTotal\r\n",
                "From Sales.SalesOrderHeader as s \r\n",
                "CROSS APPLY RowLevelSecurity.udf_BusinessEntityID(s.SalesPersonID)  p\r\n",
                "REVERT\r\n",
                ""
            ],
            "metadata": {
                "language": "sql",
                "azdata_cell_guid": "91020917-ccb5-4568-bd96-080bd214bdea"
            },
            "outputs": [],
            "execution_count": null
        },
        {
            "cell_type": "markdown",
            "source": [
                "# Step 6: Create a user defined function to hold this business requirements.\n",
                "\n",
                "As part of the best practices to maintain the row level security policies, we will create a schema to hold the function"
            ],
            "metadata": {
                "language": "sql",
                "azdata_cell_guid": "1f6ebcc2-73cc-4483-a73d-5ce62d9e7cf3"
            },
            "attachments": {}
        },
        {
            "cell_type": "code",
            "source": [
                "\r\n",
                "-- Check if the security policy exists\r\n",
                "IF EXISTS (SELECT * FROM sys.security_policies WHERE name = 'secpolBusinessEntityID')\r\n",
                "BEGIN\r\n",
                "    -- Drop the existing security policy\r\n",
                "    DROP SECURITY POLICY secpolBusinessEntityID\r\n",
                "END\r\n",
                "\r\n",
                "-- Create or alter the security policy with a filter predicate\r\n",
                "CREATE SECURITY POLICY RowLevelSecurity.secpolBusinessEntityID\r\n",
                "ADD FILTER PREDICATE RowLevelSecurity.udf_BusinessEntityID(SalesPersonID) ON Sales.SalesOrderHeader\r\n",
                "GO\r\n",
                "\r\n",
                "/*\r\n",
                "--- Recreate it adding block predicate\r\n",
                "DROP SECURITY POLICY RowLevelSecurity.secpolBusinessEntityID\r\n",
                "GO\r\n",
                "CREATE SECURITY POLICY RowLevelSecurity.secpolBusinessEntityID\r\n",
                "ADD FILTER PREDICATE RowLevelSecurity.udf_BusinessEntityID(SalesPersonID) ON Sales.SalesOrderHeader,\r\n",
                "ADD BLOCK PREDICATE RowLevelSecurity.udf_BusinessEntityID(SalesPersonID) ON Sales.SalesOrderHeader   ---- NO CRUD\r\n",
                "*/"
            ],
            "metadata": {
                "language": "sql",
                "azdata_cell_guid": "ead30704-211b-43c2-b566-ccd552a0dc99"
            },
            "outputs": [],
            "execution_count": null
        },
        {
            "cell_type": "markdown",
            "source": [
                "Let's test the security policy."
            ],
            "metadata": {
                "language": "sql",
                "azdata_cell_guid": "6c602fed-8c9c-4479-9237-964b46d9a137"
            },
            "attachments": {}
        },
        {
            "cell_type": "code",
            "source": [
                "\r\n",
                "--- Now testing the row level security policy \r\n",
                "Execute as user = 'jae0'\r\n",
                "Select Count(*) TotalOrders, Sum(SubTotal) SubTotal\r\n",
                "From Sales.SalesOrderHeader as s \r\n",
                "REVERT\r\n",
                "\r\n",
                "Execute as user = 'rachel0'\r\n",
                "Select Count(*) TotalOrders, Sum(SubTotal) SubTotal\r\n",
                "From Sales.SalesOrderHeader as s \r\n",
                "REVERT\r\n",
                "\r\n",
                "Execute as user = 'ranjit0'\r\n",
                "Select Count(*) TotalOrders, Sum(SubTotal) SubTotal\r\n",
                "From Sales.SalesOrderHeader as s \r\n",
                "REVERT\r\n",
                "\r\n",
                "Execute as user = 'amy0'\r\n",
                "Select Count(*) TotalOrders, Sum(SubTotal) SubTotal\r\n",
                "From Sales.SalesOrderHeader as s \r\n",
                "REVERT\r\n",
                "\r\n",
                "Execute as user = 'brian3'\r\n",
                "Select Count(*) TotalOrders, Sum(SubTotal) SubTotal\r\n",
                "From Sales.SalesOrderHeader as s \r\n",
                "REVERT\r\n",
                ""
            ],
            "metadata": {
                "language": "sql",
                "azdata_cell_guid": "7c51d169-2da7-4eeb-8afa-4108b78cf7e8"
            },
            "outputs": [],
            "execution_count": null
        }
    ]
}