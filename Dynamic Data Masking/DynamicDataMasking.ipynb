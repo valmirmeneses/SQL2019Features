{
    "metadata": {
        "kernelspec": {
            "name": "SQL",
            "display_name": "SQL",
            "language": "sql"
        },
        "language_info": {
            "name": "sql",
            "version": ""
        }
    },
    "nbformat_minor": 2,
    "nbformat": 4,
    "cells": [
        {
            "cell_type": "markdown",
            "source": [
                "# SQL Server 2019 Dynamic Data Masking\n",
                "\n",
                "This notebook contains an example of how to use Dynamic Data Mapping.\n",
                "\n",
                "<span style=\"color: var(--vscode-foreground);\">This notebook uses the sample AdventureWorks sample database but can be used with any user database.</span>"
            ],
            "metadata": {
                "azdata_cell_guid": "2aebda21-1d6d-4ba1-84b9-879af29f16f9"
            },
            "attachments": {}
        },
        {
            "cell_type": "markdown",
            "source": [
                "## Step 0: Create a table, and add data\n",
                "\n",
                "Execute the following T-SQL to create a table and insert rows in the database. Note the column definition MASKED WITH.\n",
                "\n",
                "| Function | Description | Examples |\n",
                "| --- | --- | --- |\n",
                "| Default | Full masking according to the data types of the designated fields.<br><br>For string data types, use `XXXX` (or fewer) if the size of the field is fewer than 4 characters (**char**, **nchar**, **varchar**, **nvarchar**, **text**, **ntext**).<br><br>For numeric data types use a zero value (**bigint**, **bit**, **decimal**, **int**, **money**, **numeric**, **smallint**, **smallmoney**, **tinyint**, **float**, **real**).<br><br>For date and time data types, use `1900-01-01 00:00:00.0000000` (**date**, **datetime2**, **datetime**, **datetimeoffset**, **smalldatetime**, **time**).<br><br>For binary data types use a single byte of ASCII value 0 (**binary**, **varbinary**, **image**). | Example column definition syntax: `Phone# varchar(12) MASKED WITH (FUNCTION = 'default()') NULL`<br><br>Example of alter syntax: `ALTER COLUMN Gender ADD MASKED WITH (FUNCTION = 'default()')` |\n",
                "| Email | Masking method that exposes the first letter of an email address and the constant suffix \".com\", in the form of an email address. `aXXX@XXXX.com`. | Example definition syntax: `Email varchar(100) MASKED WITH (FUNCTION = 'email()') NULL`<br><br>Example of alter syntax: `ALTER COLUMN Email ADD MASKED WITH (FUNCTION = 'email()')` |\n",
                "| Random | A random masking function for use on any numeric type to mask the original value with a random value within a specified range. | Example definition syntax: `Account_Number bigint MASKED WITH (FUNCTION = 'random([start range], [end range])')`<br><br>Example of alter syntax: `ALTER COLUMN [Month] ADD MASKED WITH (FUNCTION = 'random(1, 12)')` |\n",
                "| Custom String | Masking method that exposes the first and last letters and adds a custom padding string in the middle. `prefix,[padding],suffix`<br><br>If the original value is too short to complete the entire mask, part of the prefix or suffix isn't exposed. | Example definition syntax: `FirstName varchar(100) MASKED WITH (FUNCTION = 'partial(prefix,[padding],suffix)') NULL`<br><br>Example of alter syntax: `ALTER COLUMN [Phone Number] ADD MASKED WITH (FUNCTION = 'partial(1,\"XXXXXXX\",0)')`<br><br>This turns a phone number like `555.123.1234` into `5XXXXXXX`.<br><br>Additional example:<br><br>`ALTER COLUMN [Phone Number] ADD MASKED WITH (FUNCTION = 'partial(5,\"XXXXXXX\",0)')`<br><br>This turns a phone number like `555.123.1234` into `555.1XXXXXXX`. |\n",
                "| Datetime | **Applies to:** SQL Server 2022 (16.x)<br><br>Masking method for column defined with data type **datetime**, **datetime2**, **date**, **time**, **datetimeoffset**, **smalldatetime**. It helps masking the `year => datetime(\"Y\")`, `month=> datetime(\"M\")` , `day=>datetime(\"D\")`, `hour=>datetime(\"h\")`, `minute=>datetime(\"m\")`, or `seconds=>datetime(\"s\")` portion of the day. | Example of how to mask the year of the **datetime** value:<br><br>`ALTER COLUMN BirthDay ADD MASKED WITH (FUNCTION = 'datetime(\"Y\")')`<br><br>Example of how to mask the month of the **datetime** value:<br><br>`ALTER COLUMN BirthDay ADD MASKED WITH (FUNCTION = 'datetime(\"M\")')`<br><br>Example of how to mask the minute of the **datetime** value:<br><br>`ALTER COLUMN BirthDay ADD MASKED WITH (FUNCTION = 'datetime(\"m\")')` |"
            ],
            "metadata": {
                "azdata_cell_guid": "489a27ec-d4b1-46ca-9f98-a37ce0621825"
            },
            "attachments": {}
        },
        {
            "cell_type": "code",
            "source": [
                "-- table with masked columns\r\n",
                "CREATE TABLE Person.Membership (\r\n",
                "    MemberID INT IDENTITY(1, 1) NOT NULL PRIMARY KEY CLUSTERED,\r\n",
                "    FirstName VARCHAR(100) MASKED WITH (FUNCTION = 'partial(1, \"xxxxx\", 1)') NULL,\r\n",
                "    LastName VARCHAR(100) NOT NULL,\r\n",
                "    Phone VARCHAR(12) MASKED WITH (FUNCTION = 'default()') NULL,\r\n",
                "    Email VARCHAR(100) MASKED WITH (FUNCTION = 'email()') NOT NULL,\r\n",
                "    DiscountCode SMALLINT MASKED WITH (FUNCTION = 'random(1, 100)') NULL\r\n",
                ");\r\n",
                ""
            ],
            "metadata": {
                "azdata_cell_guid": "97ab0b42-1f96-47af-9b9f-d439e69d4a58",
                "language": "sql"
            },
            "outputs": [],
            "execution_count": null
        },
        {
            "cell_type": "markdown",
            "source": [
                "## Step 1: Insert the sample data"
            ],
            "metadata": {
                "azdata_cell_guid": "234bb2a5-b20b-4af9-9793-f044718b79af"
            },
            "attachments": {}
        },
        {
            "cell_type": "code",
            "source": [
                "\r\n",
                "-- inserting sample data\r\n",
                "INSERT INTO Person.Membership (FirstName, LastName, Phone, Email, DiscountCode)\r\n",
                "VALUES\r\n",
                "('Roberto', 'Tamburello', '555.123.4567', 'RTamburello@contoso.com', 10),\r\n",
                "('Janice', 'Galvin', '555.123.4568', 'JGalvin@contoso.com.co', 5),\r\n",
                "('Shakti', 'Menon', '555.123.4570', 'SMenon@contoso.net', 50),\r\n",
                "('Zheng', 'Mu', '555.123.4569', 'ZMu@contoso.net', 40);\r\n",
                "GO\r\n",
                ""
            ],
            "metadata": {
                "azdata_cell_guid": "83e74403-0ae8-4679-a6d4-0a40b44aceb1",
                "language": "sql"
            },
            "outputs": [],
            "execution_count": null
        },
        {
            "cell_type": "markdown",
            "source": [
                "## Step 3: Create an unprivileged user."
            ],
            "metadata": {
                "azdata_cell_guid": "0610d9d8-c2d9-4b31-8cc5-ea557609ea9b"
            },
            "attachments": {}
        },
        {
            "cell_type": "code",
            "source": [
                "-- Create a login for the user\r\n",
                "CREATE LOGIN unprivilegeduser\r\n",
                "WITH PASSWORD = 'Unpr1v1l3g3d';\r\n",
                "\r\n",
                "-- Create a user in the AdventureWorks database\r\n",
                "USE AdventureWorks;\r\n",
                "CREATE USER unprivilegeduser\r\n",
                "FOR LOGIN unprivilegeduser;\r\n",
                "\r\n",
                "-- Grant necessary permissions to the user\r\n",
                "-- Adjust the permissions as needed for your specific requirements\r\n",
                "EXEC sp_addrolemember N'db_datareader', N'unprivilegeduser';"
            ],
            "metadata": {
                "azdata_cell_guid": "0655f8ad-58ad-4a9b-aad1-bb4a9ac92d95",
                "language": "sql"
            },
            "outputs": [],
            "execution_count": null
        },
        {
            "cell_type": "markdown",
            "source": [
                "## Step 3: Create another Connection to the database as the Unprivileged user"
            ],
            "metadata": {
                "azdata_cell_guid": "356ed88e-42c7-4f05-8518-c525158ad57f"
            },
            "attachments": {}
        },
        {
            "cell_type": "markdown",
            "source": [
                "## Step 4: In the new connection, create a new query from AdventureWorks database."
            ],
            "metadata": {
                "azdata_cell_guid": "bd4da0f6-f82b-4883-a48c-c36e9f910f37"
            },
            "attachments": {}
        },
        {
            "cell_type": "code",
            "source": [
                "SELECT [MemberID]\r\n",
                "      ,[FirstName]\r\n",
                "      ,[LastName]\r\n",
                "      ,[Phone]\r\n",
                "      ,[Email]\r\n",
                "      ,[DiscountCode]\r\n",
                "  FROM [AdventureWorks].[Person].[Membership]"
            ],
            "metadata": {
                "azdata_cell_guid": "ac561f95-9690-4d8a-9739-353dc8a045f4",
                "language": "sql"
            },
            "outputs": [],
            "execution_count": null
        },
        {
            "cell_type": "markdown",
            "source": [
                ""
            ],
            "metadata": {
                "azdata_cell_guid": "a105a4ed-2fc7-412d-a14b-896bdbcdfad1"
            }
        }
    ]
}