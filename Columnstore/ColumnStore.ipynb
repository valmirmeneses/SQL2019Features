{
    "metadata": {
        "kernelspec": {
            "name": "SQL",
            "display_name": "SQL",
            "language": "sql"
        },
        "language_info": {
            "name": "sql",
            "version": ""
        }
    },
    "nbformat_minor": 2,
    "nbformat": 4,
    "cells": [
        {
            "cell_type": "markdown",
            "source": [
                "# Tutorial: Columnstore indexes\n",
                "\n",
                "This notebook uses the sample AdventureWorks sample database but can be used with any user database."
            ],
            "metadata": {
                "azdata_cell_guid": "2aebda21-1d6d-4ba1-84b9-879af29f16f9"
            },
            "attachments": {}
        },
        {
            "cell_type": "markdown",
            "source": [
                "# Step 1: Enable Always Encrypted with secure enclaves in SQL Server\n",
                "\n",
                "## As a first step let us create a tablee which is large enough to show performance impact of columnstore index. The time taken to create sample tablemay vary on different computer based on the resources."
            ],
            "metadata": {
                "azdata_cell_guid": "234bb2a5-b20b-4af9-9793-f044718b79af"
            },
            "attachments": {}
        },
        {
            "cell_type": "code",
            "source": [
                "USE AdventureWorks\r\n",
                "GO\r\n",
                "-- Create New Table\r\n",
                "IF  EXISTS (SELECT * FROM sys.objects WHERE object_id = OBJECT_ID(N'[Sales].[BigSalesOrderDetail]') AND type in (N'U'))\r\n",
                "DROP TABLE [Sales].[BigSalesOrderDetail]\r\n",
                "GO\r\n",
                "CREATE TABLE [Sales].[BigSalesOrderDetail](\r\n",
                "[SalesOrderID] [int] NOT NULL,\r\n",
                "[SalesOrderDetailID] [int] NOT NULL,\r\n",
                "[CarrierTrackingNumber] [nvarchar](25) NULL,\r\n",
                "[OrderQty] [smallint] NOT NULL,\r\n",
                "[ProductID] [int] NOT NULL,\r\n",
                "[SpecialOfferID] [int] NOT NULL,\r\n",
                "[UnitPrice] [money] NOT NULL,\r\n",
                "[UnitPriceDiscount] [money] NOT NULL,\r\n",
                "[LineTotal] [numeric](38, 6) NOT NULL,\r\n",
                "[rowguid] [uniqueidentifier] NOT NULL,\r\n",
                "[ModifiedDate] [datetime] NOT NULL\r\n",
                ") ON [PRIMARY]\r\n",
                "GO\r\n",
                "-- Create clustered index\r\n",
                "CREATE CLUSTERED INDEX [CL_BigSalesOrderDetail] ON [Sales].[BigSalesOrderDetail]\r\n",
                "( [SalesOrderDetailID])\r\n",
                "GO\r\n",
                "-- Create Sample Data Table\r\n",
                "-- WARNING: This Query may run upto 2-10 minutes based on your systems resources\r\n",
                "INSERT INTO [Sales].[BigSalesOrderDetail]\r\n",
                "SELECT S1.*\r\n",
                "FROM Sales.SalesOrderDetail S1\r\n",
                "GO 100"
            ],
            "metadata": {
                "azdata_cell_guid": "83e74403-0ae8-4679-a6d4-0a40b44aceb1",
                "language": "sql"
            },
            "outputs": [],
            "execution_count": null
        },
        {
            "cell_type": "markdown",
            "source": [
                "# Step 2: Run the query and observe IO statistics"
            ],
            "metadata": {
                "azdata_cell_guid": "356ed88e-42c7-4f05-8518-c525158ad57f"
            },
            "attachments": {}
        },
        {
            "cell_type": "code",
            "source": [
                "-- Performance Test\r\n",
                "-- Comparing Regular Index with ColumnStore Index\r\n",
                "USE AdventureWorks\r\n",
                "GO\r\n",
                "SET STATISTICS IO ON\r\n",
                "GO\r\n",
                "-- Select Table with regular Index\r\n",
                "SELECT ProductID, SUM(UnitPrice) SumUnitPrice, AVG(UnitPrice) AvgUnitPrice,\r\n",
                "SUM(OrderQty) SumOrderQty, AVG(OrderQty) AvgOrderQty\r\n",
                "FROM [Sales].[BigSalesOrderDetail]\r\n",
                "GROUP BY ProductID\r\n",
                "ORDER BY ProductID\r\n",
                "GO\r\n",
                "-- Table 'BigSalesOrderDetail'. Scan count 1, logical reads 342261, physical reads 0, read-ahead reads 0."
            ],
            "metadata": {
                "azdata_cell_guid": "7cef930f-722c-4928-8a5d-e445b6ec82a6",
                "language": "sql"
            },
            "outputs": [],
            "execution_count": null
        },
        {
            "cell_type": "markdown",
            "source": [
                "# Step 3: Create a Columnstore index"
            ],
            "metadata": {
                "azdata_cell_guid": "f7611f0f-71af-4aa7-a49c-76c06cd8376e"
            },
            "attachments": {}
        },
        {
            "cell_type": "code",
            "source": [
                "-- Create ColumnStore Index\r\n",
                "CREATE NONCLUSTERED COLUMNSTORE INDEX [IX_BigSalesOrderDetail_ColumnStore]\r\n",
                "ON [BigSalesOrderDetail]\r\n",
                "(UnitPrice, OrderQty, ProductID)\r\n",
                "GO"
            ],
            "metadata": {
                "azdata_cell_guid": "79a71f8b-8010-4fbd-87bb-c6bd46650718",
                "language": "sql"
            },
            "outputs": [],
            "execution_count": null
        },
        {
            "cell_type": "markdown",
            "source": [
                "# Step 4: Run the same query now with the columnstore index"
            ],
            "metadata": {
                "azdata_cell_guid": "bd4da0f6-f82b-4883-a48c-c36e9f910f37"
            },
            "attachments": {}
        },
        {
            "cell_type": "code",
            "source": [
                "-- Select Table with Columnstore Index\r\n",
                "SELECT ProductID, SUM(UnitPrice) SumUnitPrice, AVG(UnitPrice) AvgUnitPrice,\r\n",
                "SUM(OrderQty) SumOrderQty, AVG(OrderQty) AvgOrderQty\r\n",
                "FROM [Sales].[BigSalesOrderDetail]\r\n",
                "GROUP BY ProductID\r\n",
                "ORDER BY ProductID\r\n",
                "GO"
            ],
            "metadata": {
                "azdata_cell_guid": "ac561f95-9690-4d8a-9739-353dc8a045f4",
                "language": "sql"
            },
            "outputs": [],
            "execution_count": null
        },
        {
            "cell_type": "markdown",
            "source": [
                "3\\. Try the same query again in the SSMS instance that doesn't have Always Encrypted enabled, and note the failure that occurs."
            ],
            "metadata": {
                "language": "sql",
                "azdata_cell_guid": "ad01f565-e82d-42cf-8b41-74f61d00c045"
            },
            "attachments": {}
        }
    ]
}