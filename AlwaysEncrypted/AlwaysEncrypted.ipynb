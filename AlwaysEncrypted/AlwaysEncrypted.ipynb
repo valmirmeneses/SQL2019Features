{
    "metadata": {
        "kernelspec": {
            "name": "SQL",
            "display_name": "SQL",
            "language": "sql"
        },
        "language_info": {
            "name": "sql",
            "version": ""
        }
    },
    "nbformat_minor": 2,
    "nbformat": 4,
    "cells": [
        {
            "cell_type": "markdown",
            "source": [
                "# Tutorial: Always Encrypted\n",
                "\n",
                "\n",
                "<span style=\"color: var(--vscode-foreground);\">This notebook uses the sample AdventureWorks sample database but can be used with any user database.</span>"
            ],
            "metadata": {
                "azdata_cell_guid": "2aebda21-1d6d-4ba1-84b9-879af29f16f9"
            },
            "attachments": {}
        },
        {
            "cell_type": "markdown",
            "source": [
                "# Step 1: Enable Always Encrypted with secure enclaves in SQL Server\n",
                "\n",
                "## In this step, you'll enable the functionality of Always Encrypted using enclaves in your SQL Server instance.\n",
                "\n",
                "## 1.  Using SSMS, connect to your SQL Server instance as sysadmin **without** Always Encrypted enabled for the database connection.\n",
                "\n",
                "## \n",
                "\n",
                "- Start SSMS.\n",
                "- In the **Connect to Server** dialog, specify your server name, select an authentication method and specify your credentials.\n",
                "- Select **Options \\>** and select the **Always Encrypted tab**.\n",
                "- Make sure the **Enable Always Encrypted (column encryption)** checkbox is **not** selected.\n",
                "- Select **Connect**.\n",
                "\n",
                "## 2.  Open a new query window, and execute the below statement to set the secure enclave type to virtualization based security (VBS)."
            ],
            "metadata": {
                "azdata_cell_guid": "234bb2a5-b20b-4af9-9793-f044718b79af"
            },
            "attachments": {}
        },
        {
            "cell_type": "code",
            "source": [
                "EXEC sys.sp_configure 'column encryption enclave type', 1;\r\n",
                "RECONFIGURE;"
            ],
            "metadata": {
                "azdata_cell_guid": "83e74403-0ae8-4679-a6d4-0a40b44aceb1",
                "language": "sql"
            },
            "outputs": [],
            "execution_count": null
        },
        {
            "cell_type": "markdown",
            "source": [
                "## 3.  Restart your SQL Server instance for the previous change to take effect. You can restart the instance in SSMS by right-clicking on it in Object Explorer and selecting Restart. Once the instance restarts, reconnect to it.\n",
                "\n",
                "## 4.  Confirm the secure enclave is now loaded by running the following query:"
            ],
            "metadata": {
                "azdata_cell_guid": "0610d9d8-c2d9-4b31-8cc5-ea557609ea9b"
            },
            "attachments": {}
        },
        {
            "cell_type": "code",
            "source": [
                "SELECT [name], [value], [value_in_use] FROM sys.configurations\r\n",
                "WHERE [name] = 'column encryption enclave type';"
            ],
            "metadata": {
                "azdata_cell_guid": "0655f8ad-58ad-4a9b-aad1-bb4a9ac92d95",
                "language": "sql"
            },
            "outputs": [],
            "execution_count": null
        },
        {
            "cell_type": "markdown",
            "source": [
                "# Step 2: Create a table with no encrytion"
            ],
            "metadata": {
                "azdata_cell_guid": "356ed88e-42c7-4f05-8518-c525158ad57f"
            },
            "attachments": {}
        },
        {
            "cell_type": "code",
            "source": [
                "USE AdventureWorks\r\n",
                "GO\r\n",
                "\r\n",
                "IF  EXISTS (SELECT * FROM sys.objects WHERE object_id = OBJECT_ID(N'[HumanResources].[Employees]') AND type in (N'U'))\r\n",
                "DROP TABLE [HumanResources].[Employees]\r\n",
                "GO\r\n",
                "\r\n",
                "CREATE TABLE [HumanResources].[Employees]\r\n",
                "(\r\n",
                "    [EmployeeID] [int] IDENTITY(1,1) NOT NULL\r\n",
                "    , [SSN] [char](11) NOT NULL\r\n",
                "    , [FirstName] [nvarchar](50) NOT NULL\r\n",
                "    , [LastName] [nvarchar](50) NOT NULL\r\n",
                "    , [Salary] [money] NOT NULL\r\n",
                ") ON [PRIMARY];\r\n",
                "\r\n",
                ""
            ],
            "metadata": {
                "azdata_cell_guid": "7cef930f-722c-4928-8a5d-e445b6ec82a6",
                "language": "sql"
            },
            "outputs": [],
            "execution_count": null
        },
        {
            "cell_type": "markdown",
            "source": [
                "# Step 3: Add a few records"
            ],
            "metadata": {
                "azdata_cell_guid": "f7611f0f-71af-4aa7-a49c-76c06cd8376e"
            },
            "attachments": {}
        },
        {
            "cell_type": "code",
            "source": [
                "INSERT INTO [HumanResources].[Employees]\r\n",
                "(\r\n",
                "    [SSN]\r\n",
                "    , [FirstName]\r\n",
                "    , [LastName]\r\n",
                "    , [Salary]\r\n",
                ")\r\n",
                "VALUES\r\n",
                "(\r\n",
                "    '795-73-9838'\r\n",
                "    , N'Catherine'\r\n",
                "    , N'Abel'\r\n",
                "    , $31692\r\n",
                ");\r\n",
                "\r\n",
                "INSERT INTO [HumanResources].[Employees]\r\n",
                "(\r\n",
                "    [SSN]\r\n",
                "    , [FirstName]\r\n",
                "    , [LastName]\r\n",
                "    , [Salary]\r\n",
                ")\r\n",
                "VALUES\r\n",
                "(\r\n",
                "    '990-00-6818'\r\n",
                "    , N'Kim'\r\n",
                "    , N'Abercrombie'\r\n",
                "    , $55415\r\n",
                ");"
            ],
            "metadata": {
                "azdata_cell_guid": "79a71f8b-8010-4fbd-87bb-c6bd46650718",
                "language": "sql"
            },
            "outputs": [],
            "execution_count": null
        },
        {
            "cell_type": "markdown",
            "source": [
                "# Step 4: Provision enclave-enabled keys\n",
                "\n",
                "In this step, you'll create a column master key and a column encryption key that allow enclave computations.\n",
                "\n",
                "1. Using the SSMS instance from the previous step, in **Object Explorer**, expand your database and navigate to **Security** \\> **Always Encrypted Keys**.\n",
                "    \n",
                "2. Provision a new enclave-enabled column master key:\n",
                "    \n",
                "\n",
                "- Right-click **Always Encrypted Keys** and select **New Column Master Key...**.\n",
                "    \n",
                "- Select your column master key name: **CMK1**.\n",
                "    \n",
                "- Make sure you select either **Windows Certificate Store (Current User or Local Machine)**\n",
                "    \n",
                "- Select **Allow enclave computations**\n",
                "    \n",
                "- Select your certificate if it already exists, or select the **Generate Certificate** button to create a new one.\n",
                "    \n",
                "- Select **OK**.\n",
                "    \n",
                "\n",
                "3.  Create a new enclave-enabled column encryption key:\n",
                "\n",
                "- Right-click **Always Encrypted Keys** and select **New Column Encryption Key**.\n",
                "- Enter a name for the new column encryption key: **CEK1**.\n",
                "- In the **Column master key** dropdown, select the column master key you created in the previous steps.\n",
                "\n",
                "4.  Select **OK**."
            ],
            "metadata": {
                "azdata_cell_guid": "bd4da0f6-f82b-4883-a48c-c36e9f910f37"
            },
            "attachments": {}
        },
        {
            "cell_type": "markdown",
            "source": [
                "# Step 5: Encrypt some columns in place\n",
                "\n",
                "In this step, you'll encrypt the data stored in the **SSN** and **Salary** columns inside the server-side enclave, and then test a SELECT query on the data.\n",
                "\n",
                "1.  Open a new SSMS instance and connect to your SQL Server instance **with** Always Encrypted enabled for the database connection.\n",
                "\n",
                "- Start a new instance of SSMS.\n",
                "- In the **Connect to Server** dialog, specify your server name, select an authentication method and specify your credentials.\n",
                "- Select **Options \\>\\>** and select the **Always Encrypted** tab.\n",
                "- Select the **Enable Always Encrypted (column encryption)** checkbox.\n",
                "- Select **Enable secure enclaves**.\n",
                "- Set **Protocol** to **None**.\n",
                "- Select **Connect**.\n",
                "- If you're prompted to enable Parameterization for Always Encrypted queries, select **Enable**.\n",
                "\n",
                "2.  Using the same SSMS instance (with Always Encrypted enabled), open a new query window and encrypt the **SSN** and **Salary** columns by running the below queries."
            ],
            "metadata": {
                "azdata_cell_guid": "caec646e-2b65-40b0-8f8e-ff5a44e5c8d2"
            },
            "attachments": {}
        },
        {
            "cell_type": "code",
            "source": [
                "USE ADVENTUREWORKS\r\n",
                "GO\r\n",
                "ALTER TABLE [HumanResources].[Employees]\r\n",
                "ALTER COLUMN [SSN] [char] (11) COLLATE Latin1_General_BIN2\r\n",
                "ENCRYPTED WITH (COLUMN_ENCRYPTION_KEY = [CEK1], ENCRYPTION_TYPE = Randomized, ALGORITHM = 'AEAD_AES_256_CBC_HMAC_SHA_256') NOT NULL\r\n",
                "WITH\r\n",
                "(ONLINE = ON);\r\n",
                "\r\n",
                "ALTER TABLE [HumanResources].[Employees]\r\n",
                "ALTER COLUMN [Salary] [money]\r\n",
                "ENCRYPTED WITH (COLUMN_ENCRYPTION_KEY = [CEK1], ENCRYPTION_TYPE = Randomized, ALGORITHM = 'AEAD_AES_256_CBC_HMAC_SHA_256') NOT NULL\r\n",
                "WITH\r\n",
                "(ONLINE = ON);\r\n",
                "\r\n",
                "ALTER DATABASE SCOPED CONFIGURATION CLEAR PROCEDURE_CACHE;"
            ],
            "metadata": {
                "azdata_cell_guid": "ac561f95-9690-4d8a-9739-353dc8a045f4",
                "language": "sql"
            },
            "outputs": [],
            "execution_count": null
        },
        {
            "cell_type": "markdown",
            "source": [
                "Notice the ALTER DATABASE SCOPED CONFIGURATION CLEAR PROCEDURE\\_CACHE statement to clear the query plan cache for the database in the above script. After you have altered the table, you need to clear the plans for all batches and stored procedures that access the table, to refresh parameters encryption information."
            ],
            "metadata": {
                "azdata_cell_guid": "a105a4ed-2fc7-412d-a14b-896bdbcdfad1"
            },
            "attachments": {}
        },
        {
            "cell_type": "markdown",
            "source": [
                "3.  To verify the SSN and Salary columns are now encrypted, open a new query window in the SSMS instance **without** Always Encrypted enabled for the database connection and execute the below statement. The query window should return encrypted values in the SSN and Salary columns. If you execute the same query using the SSMS instance with Always Encrypted enabled, you should see the data decrypted."
            ],
            "metadata": {
                "azdata_cell_guid": "88fb63e9-b052-4519-97ba-ad91513ec4b9"
            },
            "attachments": {}
        },
        {
            "cell_type": "code",
            "source": [
                "SELECT [EmployeeID]\r\n",
                "      ,[SSN]\r\n",
                "      ,[FirstName]\r\n",
                "      ,[LastName]\r\n",
                "      ,[Salary]\r\n",
                "  FROM [AdventureWorks].[HumanResources].[Employees]"
            ],
            "metadata": {
                "azdata_cell_guid": "503d050d-1990-4d05-af77-6b53991f96d9",
                "language": "sql"
            },
            "outputs": [],
            "execution_count": null
        },
        {
            "cell_type": "markdown",
            "source": [
                "# Step 6: Run rich queries against encrypted columns\n",
                "\n",
                "Now, you can run rich queries against the encrypted columns. Some query processing will be performed inside your server-side enclave.\n",
                "\n",
                "1.  In the SSMS instance **with** Always Encrypted enabled, make sure Parameterization for Always Encrypted is also enabled.\n",
                "\n",
                "- Select **Tools** from the main menu of SSMS.\n",
                "- Select **Options...**.\n",
                "- Navigate to **Query Execution** \\> **SQL Server** \\> **Advanced**.\n",
                "- Ensure that **Enable Parameterization for Always Encrypted** is checked.\n",
                "- Select **OK**.\n",
                "\n",
                "2.  Open a new query window, paste in and execute the below query. The query should return plaintext values and rows meeting the specified search criteria."
            ],
            "metadata": {
                "language": "sql",
                "azdata_cell_guid": "59b06cc8-9f9c-40b9-aeac-0d9605b433ca"
            },
            "attachments": {}
        },
        {
            "cell_type": "code",
            "source": [
                "DECLARE @SSNPattern [char](11) = '%6818';\r\n",
                "DECLARE @MinSalary [money] = $1000;\r\n",
                "SELECT * FROM [HR].[Employees]\r\n",
                "WHERE SSN LIKE @SSNPattern AND [Salary] >= @MinSalary;"
            ],
            "metadata": {
                "language": "sql",
                "azdata_cell_guid": "0837c796-9e5c-4f95-9cc8-8a250eeaf96c"
            },
            "outputs": [],
            "execution_count": null
        },
        {
            "cell_type": "markdown",
            "source": [
                "3\\. Try the same query again in the SSMS instance that doesn't have Always Encrypted enabled, and note the failure that occurs."
            ],
            "metadata": {
                "language": "sql",
                "azdata_cell_guid": "ad01f565-e82d-42cf-8b41-74f61d00c045"
            },
            "attachments": {}
        }
    ]
}